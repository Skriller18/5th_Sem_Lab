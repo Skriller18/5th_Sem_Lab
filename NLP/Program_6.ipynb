{
 "cells": [
  {
   "cell_type": "code",
   "execution_count": 1,
   "metadata": {},
   "outputs": [
    {
     "name": "stderr",
     "output_type": "stream",
     "text": [
      "C:\\Users\\hp\\AppData\\Local\\Temp\\ipykernel_22392\\1255534046.py:1: DeprecationWarning: \n",
      "Pyarrow will become a required dependency of pandas in the next major release of pandas (pandas 3.0),\n",
      "(to allow more performant data types, such as the Arrow string type, and better interoperability with other libraries)\n",
      "but was not found to be installed on your system.\n",
      "If this would cause problems for you,\n",
      "please provide us feedback at https://github.com/pandas-dev/pandas/issues/54466\n",
      "        \n",
      "  import pandas as pd\n",
      "[nltk_data] Downloading package stopwords to\n",
      "[nltk_data]     C:\\Users\\hp\\AppData\\Roaming\\nltk_data...\n",
      "[nltk_data]   Package stopwords is already up-to-date!\n"
     ]
    },
    {
     "data": {
      "text/plain": [
       "True"
      ]
     },
     "execution_count": 1,
     "metadata": {},
     "output_type": "execute_result"
    }
   ],
   "source": [
    "import pandas as pd\n",
    "from nltk.tokenize import word_tokenize\n",
    "from nltk.corpus import stopwords\n",
    "from sklearn.model_selection import train_test_split\n",
    "import numpy as np\n",
    "import math\n",
    "import nltk\n",
    "\n",
    "nltk.download('stopwords')"
   ]
  },
  {
   "cell_type": "code",
   "execution_count": 2,
   "metadata": {},
   "outputs": [],
   "source": [
    "df = pd.read_csv(\"spam.csv\",encoding=\"Windows-1252\")\n",
    "X = df['v2']\n",
    "y = df['v1'].apply(lambda x: 1 if x == \"ham\" else 0)"
   ]
  },
  {
   "cell_type": "code",
   "execution_count": 3,
   "metadata": {},
   "outputs": [],
   "source": [
    "X_train, X_test, y_train, y_test = train_test_split(X, y, test_size=0.3, random_state=42)\n",
    "\n",
    "stop_words = set(stopwords.words('english'))\n",
    "preprocess = lambda text: ' '.join([word.lower() for word in word_tokenize(text) if word.isalpha() and word.lower() not in stop_words])\n",
    "X_train = X_train.apply(preprocess)\n",
    "X_test = X_test.apply(preprocess)\n",
    "\n",
    "def calculate_tf(term, document):\n",
    "    words = document.split()\n",
    "    return words.count(term) / (len(words)+1)\n",
    "\n",
    "def calculate_idf(term, documents):\n",
    "    document_containing_term = sum(1 for document in documents if term in document.split())\n",
    "    return math.log(len(documents) / (document_containing_term + 1)) if document_containing_term > 0 else 0\n",
    "\n",
    "all_documents = X_train.tolist() + X_test.tolist()\n",
    "idf_values = {term: calculate_idf(term, all_documents) for term in set(' '.join(all_documents).split())}\n",
    "\n",
    "vocabulary = sorted(list(idf_values.keys()))\n",
    "\n",
    "X_train_tfidf_manual = []\n",
    "for document in X_train:\n",
    "    tfidf_vector = [calculate_tf(term, document) * idf_values[term] for term in vocabulary]\n",
    "    X_train_tfidf_manual.append(tfidf_vector)\n",
    "\n",
    "X_test_tfidf_manual = []\n",
    "for document in X_test:\n",
    "    tfidf_vector = [calculate_tf(term, document) * idf_values[term] for term in vocabulary]\n",
    "    X_test_tfidf_manual.append(tfidf_vector)\n",
    "\n",
    "X_train_tfidf_manual = np.array(X_train_tfidf_manual)\n",
    "X_test_tfidf_manual = np.array(X_test_tfidf_manual)"
   ]
  },
  {
   "cell_type": "code",
   "execution_count": 4,
   "metadata": {},
   "outputs": [
    {
     "name": "stdout",
     "output_type": "stream",
     "text": [
      "              precision    recall  f1-score   support\n",
      "\n",
      "           0       1.00      0.80      0.89       219\n",
      "           1       0.97      1.00      0.99      1453\n",
      "\n",
      "    accuracy                           0.97      1672\n",
      "   macro avg       0.99      0.90      0.94      1672\n",
      "weighted avg       0.98      0.97      0.97      1672\n",
      "\n"
     ]
    }
   ],
   "source": [
    "from sklearn.ensemble import RandomForestClassifier\n",
    "from sklearn.metrics import classification_report\n",
    "model = RandomForestClassifier()\n",
    "model.fit(X_train_tfidf_manual, y_train)\n",
    "y_pred = model.predict(X_test_tfidf_manual)\n",
    "print(classification_report(y_test, y_pred))"
   ]
  },
  {
   "cell_type": "code",
   "execution_count": 5,
   "metadata": {},
   "outputs": [
    {
     "name": "stdout",
     "output_type": "stream",
     "text": [
      "Predicted Sentiment: Not Spam\n"
     ]
    }
   ],
   "source": [
    "new_text = \"I HAVE A DATE ON SUNDAY WITH WILL!!\"\n",
    "new_text_tfidf_manual = [calculate_tf(term, preprocess(new_text)) * idf_values[term] for term in vocabulary]\n",
    "predicted_sentiment = model.predict([new_text_tfidf_manual])\n",
    "print(\"Predicted Sentiment:\", \"Not Spam\" if predicted_sentiment[0] == 1 else \"Spam\")"
   ]
  },
  {
   "cell_type": "code",
   "execution_count": 7,
   "metadata": {},
   "outputs": [
    {
     "name": "stdout",
     "output_type": "stream",
     "text": [
      "Predicted Sentiment: Spam\n"
     ]
    }
   ],
   "source": [
    "new_text = \"URGENT! You have won a 1 week FREE membership in our �100,000 Prize Jackpot!\"\n",
    "new_text_tfidf_manual = [calculate_tf(term, preprocess(new_text)) * idf_values[term] for term in vocabulary]\n",
    "predicted_sentiment = model.predict([new_text_tfidf_manual])\n",
    "print(\"Predicted Sentiment:\", \"Not Spam\" if predicted_sentiment[0] == 1 else \"Spam\")"
   ]
  },
  {
   "cell_type": "code",
   "execution_count": null,
   "metadata": {},
   "outputs": [],
   "source": []
  }
 ],
 "metadata": {
  "kernelspec": {
   "display_name": "venv",
   "language": "python",
   "name": "python3"
  },
  "language_info": {
   "codemirror_mode": {
    "name": "ipython",
    "version": 3
   },
   "file_extension": ".py",
   "mimetype": "text/x-python",
   "name": "python",
   "nbconvert_exporter": "python",
   "pygments_lexer": "ipython3",
   "version": "3.11.4"
  }
 },
 "nbformat": 4,
 "nbformat_minor": 2
}

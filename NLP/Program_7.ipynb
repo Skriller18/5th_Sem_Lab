{
 "cells": [
  {
   "cell_type": "code",
   "execution_count": 3,
   "metadata": {},
   "outputs": [
    {
     "name": "stderr",
     "output_type": "stream",
     "text": [
      "[nltk_data] Downloading package punkt to\n",
      "[nltk_data]     C:\\Users\\hp\\AppData\\Roaming\\nltk_data...\n",
      "[nltk_data]   Package punkt is already up-to-date!\n",
      "[nltk_data] Downloading package wordnet to\n",
      "[nltk_data]     C:\\Users\\hp\\AppData\\Roaming\\nltk_data...\n",
      "[nltk_data]   Package wordnet is already up-to-date!\n",
      "[nltk_data] Downloading package stopwords to\n",
      "[nltk_data]     C:\\Users\\hp\\AppData\\Roaming\\nltk_data...\n",
      "[nltk_data]   Package stopwords is already up-to-date!\n"
     ]
    },
    {
     "data": {
      "text/plain": [
       "True"
      ]
     },
     "execution_count": 3,
     "metadata": {},
     "output_type": "execute_result"
    }
   ],
   "source": [
    "import pandas as pd\n",
    "import matplotlib.pyplot as plt\n",
    "\n",
    "import nltk\n",
    "from nltk.tokenize import word_tokenize\n",
    "from nltk.stem import WordNetLemmatizer\n",
    "from nltk.corpus import stopwords\n",
    "\n",
    "import gensim\n",
    "from gensim.corpora import Dictionary\n",
    "from gensim.models import LsiModel\n",
    "from gensim.matutils import corpus2csc\n",
    "\n",
    "nltk.download('punkt')\n",
    "nltk.download('wordnet')\n",
    "nltk.download('stopwords')"
   ]
  },
  {
   "cell_type": "code",
   "execution_count": 4,
   "metadata": {},
   "outputs": [],
   "source": [
    "df = pd.read_csv(\"quora_questions.csv\")\n",
    "data = df.sample(n=1000, axis=0)\n",
    "data = data['Question']\n",
    "\n",
    "lemmatizer = WordNetLemmatizer()\n",
    "stop_words = set(stopwords.words(\"english\"))\n"
   ]
  },
  {
   "cell_type": "code",
   "execution_count": 5,
   "metadata": {},
   "outputs": [],
   "source": [
    "\n",
    "def preprocess(text):\n",
    "    text = text.lower()\n",
    "    words = word_tokenize(text)\n",
    "    words = [lemmatizer.lemmatize(word) for word in words if word not in stop_words]\n",
    "    import re\n",
    "    special_chars = r'[,.:;?\\(\\'\"\\s]'\n",
    "    words = [re.sub(special_chars, '', word) for word in words]\n",
    "    return words\n",
    "\n",
    "\n",
    "data = data.apply(preprocess)\n",
    "dictionary = Dictionary(data)\n",
    "dictionary.filter_extremes(no_below=5, no_above=0.5)\n",
    "bow_corpus = [dictionary.doc2bow(text) for text in data]"
   ]
  },
  {
   "cell_type": "code",
   "execution_count": 6,
   "metadata": {},
   "outputs": [
    {
     "name": "stdout",
     "output_type": "stream",
     "text": [
      "Top 5 LSA Topics:\n",
      "Topic 1 : 0.880*\"best\" + 0.225*\"way\" + 0.188*\"s\" + 0.116*\"india\" + 0.109*\")\" + 0.102*\"get\" + 0.102*\"friend\" + 0.091*\"time\" + 0.071*\"movie\" + 0.066*\"good\"\n",
      "Topic 2 : -0.769*\"s\" + 0.305*\"best\" + -0.200*\"like\" + -0.170*\"would\" + -0.160*\"note\" + -0.138*\"nt\" + -0.123*\"1000\" + -0.122*\"india\" + -0.119*\")\" + -0.113*\"500\"\n",
      "Topic 3 : 0.619*\")\" + 0.361*\"note\" + -0.360*\"s\" + 0.336*\"r\" + 0.251*\"1000\" + 0.232*\"500\" + 0.143*\"banning\" + 0.126*\"indian\" + 0.098*\"money\" + 0.096*\"system\"\n",
      "Topic 4 : -0.674*\")\" + 0.361*\"note\" + 0.321*\"r\" + 0.271*\"1000\" + 0.252*\"500\" + 0.151*\"banning\" + 0.122*\"indian\" + -0.119*\"like\" + 0.115*\"money\" + -0.111*\"system\"\n",
      "Topic 5 : 0.887*\"get\" + -0.183*\"s\" + 0.160*\"job\" + 0.155*\"good\" + -0.110*\"best\" + 0.110*\"people\" + 0.096*\"better\" + -0.090*\"would\" + 0.089*\"home\" + -0.083*\")\"\n"
     ]
    }
   ],
   "source": [
    "num_topics = 5\n",
    "lsamodel = LsiModel(bow_corpus, num_topics=num_topics, id2word=dictionary)\n",
    "\n",
    "topics = lsamodel.show_topics(num_topics=num_topics, num_words=10)\n",
    "top_topics = []\n",
    "for topic in topics:\n",
    "    top_topics.append(topic[1])\n",
    "\n",
    "print(\"Top 5 LSA Topics:\")\n",
    "for i, topic in enumerate(top_topics, start=1):\n",
    "    print(f\"Topic {i} : {topic}\")"
   ]
  }
 ],
 "metadata": {
  "kernelspec": {
   "display_name": "venv",
   "language": "python",
   "name": "python3"
  },
  "language_info": {
   "codemirror_mode": {
    "name": "ipython",
    "version": 3
   },
   "file_extension": ".py",
   "mimetype": "text/x-python",
   "name": "python",
   "nbconvert_exporter": "python",
   "pygments_lexer": "ipython3",
   "version": "3.11.4"
  }
 },
 "nbformat": 4,
 "nbformat_minor": 2
}

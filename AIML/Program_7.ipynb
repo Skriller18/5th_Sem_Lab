{
 "cells": [
  {
   "cell_type": "code",
   "execution_count": 1,
   "metadata": {},
   "outputs": [
    {
     "name": "stderr",
     "output_type": "stream",
     "text": [
      "C:\\Users\\hp\\AppData\\Local\\Temp\\ipykernel_19004\\2951557918.py:1: DeprecationWarning: \n",
      "Pyarrow will become a required dependency of pandas in the next major release of pandas (pandas 3.0),\n",
      "(to allow more performant data types, such as the Arrow string type, and better interoperability with other libraries)\n",
      "but was not found to be installed on your system.\n",
      "If this would cause problems for you,\n",
      "please provide us feedback at https://github.com/pandas-dev/pandas/issues/54466\n",
      "        \n",
      "  import pandas as pd\n"
     ]
    }
   ],
   "source": [
    "import pandas as pd\n",
    "import numpy as np\n",
    "from sklearn.model_selection import train_test_split"
   ]
  },
  {
   "cell_type": "code",
   "execution_count": 12,
   "metadata": {},
   "outputs": [],
   "source": [
    "df = pd.read_csv('iris_csv.csv')\n",
    "\n",
    "X = df.iloc[:, :4]  \n",
    "y = df.iloc[:, -1]   \n",
    "X_train, X_test, y_train, y_test = train_test_split(X, y, test_size=0.25, random_state=42)"
   ]
  },
  {
   "cell_type": "code",
   "execution_count": 3,
   "metadata": {},
   "outputs": [],
   "source": [
    "def euclidean_distance(point1, point2):\n",
    "    return np.sqrt(np.sum((point1 - point2) ** 2))"
   ]
  },
  {
   "cell_type": "code",
   "execution_count": 5,
   "metadata": {},
   "outputs": [],
   "source": [
    "def knn_predict(train_data, train_labels, test_point, k=3):\n",
    "    distances = []\n",
    "\n",
    "    for i in range(len(train_data)):\n",
    "        distance = euclidean_distance(test_point, train_data.iloc[i, :])\n",
    "        distances.append((distance, train_labels.iloc[i]))\n",
    "\n",
    "    sorted_distances = sorted(distances, key=lambda x: x[0])\n",
    "    k_nearest_neighbors = sorted_distances[:k]\n",
    "    class_counts = {}\n",
    "    for neighbor in k_nearest_neighbors:\n",
    "        label = neighbor[1]\n",
    "        class_counts[label] = class_counts.get(label, 0) + 1\n",
    "    predicted_class = max(class_counts, key=class_counts.get)\n",
    "    return predicted_class\n"
   ]
  },
  {
   "cell_type": "code",
   "execution_count": 6,
   "metadata": {},
   "outputs": [],
   "source": [
    "pred = [knn_predict(X_train, y_train, X_test.iloc[i, :], k=3) for i in range(len(X_test))]"
   ]
  },
  {
   "cell_type": "code",
   "execution_count": 9,
   "metadata": {},
   "outputs": [
    {
     "name": "stdout",
     "output_type": "stream",
     "text": [
      "Validation Set Metrics:\n",
      "Accuracy: 1.00\n",
      "Precision: 1.00\n",
      "Recall: 1.00\n",
      "F1 Score: 1.00\n"
     ]
    }
   ],
   "source": [
    "from sklearn.metrics import accuracy_score,precision_score,f1_score,recall_score,confusion_matrix\n",
    "accuracy = accuracy_score(y_test, pred)\n",
    "precision = precision_score(y_test, pred,average='micro')\n",
    "recall = recall_score(y_test, pred,average='micro')\n",
    "f1 = f1_score(y_test, pred,average='micro')\n",
    "\n",
    "print(\"Validation Set Metrics:\")\n",
    "print(\"Accuracy: {:.2f}\".format(accuracy))\n",
    "print(\"Precision: {:.2f}\".format(precision))\n",
    "print(\"Recall: {:.2f}\".format(recall))\n",
    "print(\"F1 Score: {:.2f}\".format(f1))"
   ]
  },
  {
   "cell_type": "code",
   "execution_count": 10,
   "metadata": {},
   "outputs": [
    {
     "name": "stdout",
     "output_type": "stream",
     "text": [
      "Class 0 predicted and true : \n",
      "15\n",
      "Class 0 predicted and false : \n",
      "0\n",
      "Class 1 predicted and false : \n",
      "0\n",
      "Class 1 predicted and true : \n",
      "11\n"
     ]
    }
   ],
   "source": [
    "confusion = confusion_matrix(y_test, pred)\n",
    "print(\"Class 0 predicted and true : \")\n",
    "print(confusion[0][0])\n",
    "print(\"Class 0 predicted and false : \")\n",
    "print(confusion[0][1])\n",
    "print(\"Class 1 predicted and false : \")\n",
    "print(confusion[1][0])\n",
    "print(\"Class 1 predicted and true : \")\n",
    "print(confusion[1][1])"
   ]
  },
  {
   "cell_type": "code",
   "execution_count": 13,
   "metadata": {},
   "outputs": [],
   "source": [
    "valid = df.sample(n=20)\n",
    "X_valid = valid.iloc[:, :4]\n",
    "y_valid = valid.iloc[:, -1]"
   ]
  },
  {
   "cell_type": "code",
   "execution_count": 14,
   "metadata": {},
   "outputs": [],
   "source": [
    "val_pred = [knn_predict(X_train, y_train, X_valid.iloc[i, :], k=3) for i in range(len(X_valid))]"
   ]
  },
  {
   "cell_type": "code",
   "execution_count": 15,
   "metadata": {},
   "outputs": [
    {
     "name": "stdout",
     "output_type": "stream",
     "text": [
      "Validation Set Metrics:\n",
      "Accuracy: 0.95\n",
      "Precision: 0.95\n",
      "Recall: 0.95\n",
      "F1 Score: 0.95\n"
     ]
    }
   ],
   "source": [
    "accuracy = accuracy_score(y_valid, val_pred)\n",
    "precision = precision_score(y_valid, val_pred,average='micro')\n",
    "recall = recall_score(y_valid, val_pred,average='micro')\n",
    "f1 = f1_score(y_valid, val_pred,average='micro')\n",
    "\n",
    "print(\"Validation Set Metrics:\")\n",
    "print(\"Accuracy: {:.2f}\".format(accuracy))\n",
    "print(\"Precision: {:.2f}\".format(precision))\n",
    "print(\"Recall: {:.2f}\".format(recall))\n",
    "print(\"F1 Score: {:.2f}\".format(f1))"
   ]
  },
  {
   "cell_type": "code",
   "execution_count": 17,
   "metadata": {},
   "outputs": [
    {
     "name": "stdout",
     "output_type": "stream",
     "text": [
      "Class 0 predicted and true : \n",
      "7\n",
      "Class 0 predicted and false : \n",
      "0\n",
      "Class 1 predicted and false : \n",
      "0\n",
      "Class 1 predicted and true : \n",
      "6\n"
     ]
    }
   ],
   "source": [
    "confusion = confusion_matrix(y_valid,val_pred)\n",
    "print(\"Class 0 predicted and true : \")\n",
    "print(confusion[0][0])\n",
    "print(\"Class 0 predicted and false : \")\n",
    "print(confusion[0][1])\n",
    "print(\"Class 1 predicted and false : \")\n",
    "print(confusion[1][0])\n",
    "print(\"Class 1 predicted and true : \")\n",
    "print(confusion[1][1])"
   ]
  }
 ],
 "metadata": {
  "kernelspec": {
   "display_name": "venv",
   "language": "python",
   "name": "python3"
  },
  "language_info": {
   "codemirror_mode": {
    "name": "ipython",
    "version": 3
   },
   "file_extension": ".py",
   "mimetype": "text/x-python",
   "name": "python",
   "nbconvert_exporter": "python",
   "pygments_lexer": "ipython3",
   "version": "3.11.4"
  }
 },
 "nbformat": 4,
 "nbformat_minor": 2
}

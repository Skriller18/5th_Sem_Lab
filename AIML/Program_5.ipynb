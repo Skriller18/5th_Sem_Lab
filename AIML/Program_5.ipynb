{
 "cells": [
  {
   "cell_type": "code",
   "execution_count": 1,
   "id": "116c1e26",
   "metadata": {},
   "outputs": [
    {
     "name": "stderr",
     "output_type": "stream",
     "text": [
      "C:\\Users\\hp\\AppData\\Local\\Temp\\ipykernel_15780\\1935187655.py:4: DeprecationWarning: \n",
      "Pyarrow will become a required dependency of pandas in the next major release of pandas (pandas 3.0),\n",
      "(to allow more performant data types, such as the Arrow string type, and better interoperability with other libraries)\n",
      "but was not found to be installed on your system.\n",
      "If this would cause problems for you,\n",
      "please provide us feedback at https://github.com/pandas-dev/pandas/issues/54466\n",
      "        \n",
      "  import pandas as pd\n"
     ]
    }
   ],
   "source": [
    "import numpy as np\n",
    "from sklearn.model_selection import train_test_split\n",
    "from sklearn.metrics import accuracy_score, precision_score, recall_score, f1_score\n",
    "import pandas as pd\n",
    "\n",
    "class LogisticRegression:\n",
    "    def __init__(self, learning_rate=0.001, iterations=2000):\n",
    "        self.learning_rate = learning_rate\n",
    "        self.iterations = iterations\n",
    "\n",
    "    def add_intercept(self, X):\n",
    "        intercept = np.ones((X.shape[0], 1))\n",
    "        return np.concatenate((intercept, X), axis=1)\n",
    "\n",
    "    def sigmoid(self, z):\n",
    "        return 1 / (1 + np.exp(-z))\n",
    "\n",
    "    def cost(self, h, y):\n",
    "        return (-y * np.log(h) - (1 - y) * np.log(1 - h)).mean()\n",
    "\n",
    "    def fit(self, X, y):\n",
    "        X = self.add_intercept(X)\n",
    "        self.theta = np.zeros(X.shape[1])\n",
    "\n",
    "        for _ in range(self.iterations):\n",
    "            z = np.dot(X, self.theta)\n",
    "            h = self.sigmoid(z)\n",
    "            gradient = np.dot(X.T, (h - y)) / y.size\n",
    "            self.theta -= self.learning_rate * gradient\n",
    "\n",
    "    def predict_prob(self, X):\n",
    "        X = self.add_intercept(X)\n",
    "        return self.sigmoid(np.dot(X, self.theta))\n",
    "\n",
    "    def predict(self, X, threshold=0.5):\n",
    "        return self.predict_prob(X) >= threshold"
   ]
  },
  {
   "cell_type": "code",
   "execution_count": 2,
   "id": "bbea8284",
   "metadata": {},
   "outputs": [
    {
     "data": {
      "text/plain": [
       "(569,)"
      ]
     },
     "execution_count": 2,
     "metadata": {},
     "output_type": "execute_result"
    }
   ],
   "source": [
    "data = pd.read_csv(\"Breastcancer_data.csv\")\n",
    "X = data.iloc[:,2:32].values\n",
    "X = np.float64(X)\n",
    "y = data.iloc[:,1].values\n",
    "y = np.where(y == 'M', 1, 0)\n",
    "y.shape"
   ]
  },
  {
   "cell_type": "code",
   "execution_count": 3,
   "id": "ca1b98f3",
   "metadata": {},
   "outputs": [],
   "source": [
    "X_train, X_temp, y_train, y_temp = train_test_split(X, y, test_size=0.3, random_state=0)\n",
    "X_val, X_test, y_val, y_test = train_test_split(X_temp, y_temp, test_size=0.5, random_state=0)"
   ]
  },
  {
   "cell_type": "code",
   "execution_count": 4,
   "id": "0c872b60",
   "metadata": {},
   "outputs": [
    {
     "name": "stderr",
     "output_type": "stream",
     "text": [
      "C:\\Users\\hp\\AppData\\Local\\Temp\\ipykernel_15780\\1935187655.py:16: RuntimeWarning: overflow encountered in exp\n",
      "  return 1 / (1 + np.exp(-z))\n"
     ]
    },
    {
     "name": "stdout",
     "output_type": "stream",
     "text": [
      "[1.14068178e-34 5.64995792e-31 8.35067975e-41 1.00000000e+00\n",
      " 1.70441228e-39 9.86405507e-30 1.00000000e+00 1.00000000e+00\n",
      " 7.22834940e-20 3.89409925e-34 1.00000000e+00 1.00000000e+00\n",
      " 2.65732575e-11 1.00000000e+00 2.23934778e-43 1.00000000e+00\n",
      " 1.85960908e-46 5.97150894e-40 3.86178788e-57 1.00000000e+00\n",
      " 4.94855866e-21 1.00000000e+00 5.57514386e-40 3.73116389e-55\n",
      " 1.72061183e-31 9.99753545e-01 9.99987915e-01 1.00000000e+00\n",
      " 1.00000000e+00 1.00000000e+00 2.04761711e-45 8.60678843e-01\n",
      " 1.28472987e-23 1.00000000e+00 3.34615224e-20 8.41127965e-30\n",
      " 1.00000000e+00 5.74227286e-08 1.98063092e-27 4.54863706e-11\n",
      " 4.33762430e-47 1.00000000e+00 1.00000000e+00 6.16088051e-44\n",
      " 8.56441464e-37 1.00000000e+00 6.86366664e-16 6.15572310e-35\n",
      " 1.08183241e-42 9.41558592e-53 1.22212414e-38 2.73893669e-21\n",
      " 4.19629624e-35 1.00000000e+00 2.41577867e-33 9.26463257e-37\n",
      " 8.70418405e-36 8.96147144e-07 1.00000000e+00 1.00000000e+00\n",
      " 1.00458340e-23 1.00000000e+00 1.37502726e-21 3.99399089e-18\n",
      " 1.13908305e-19 1.00000000e+00 2.19899355e-29 4.33714696e-36\n",
      " 3.99812634e-06 1.00000000e+00 5.71271238e-34 1.00000000e+00\n",
      " 1.00000000e+00 1.03878821e-30 1.11375107e-29 1.00000000e+00\n",
      " 1.00000000e+00 3.16346282e-45 9.62873674e-01 1.00000000e+00\n",
      " 1.79822296e-46 8.15754472e-21 1.00000000e+00 3.68104393e-41\n",
      " 4.49140913e-18]\n"
     ]
    }
   ],
   "source": [
    "model = LogisticRegression()\n",
    "model.fit(X_train, y_train)\n",
    "val_predictions = model.predict(X_val)\n",
    "val_predictions_prob = model.predict_prob(X_val)\n",
    "print(val_predictions_prob)"
   ]
  },
  {
   "cell_type": "code",
   "execution_count": 5,
   "id": "70fec52e",
   "metadata": {},
   "outputs": [
    {
     "name": "stdout",
     "output_type": "stream",
     "text": [
      "Validation Set Metrics:\n",
      "Accuracy: 0.92\n",
      "Precision: 0.79\n",
      "Recall: 1.00\n",
      "F1 Score: 0.88\n"
     ]
    }
   ],
   "source": [
    "accuracy = accuracy_score(y_val, val_predictions)\n",
    "precision = precision_score(y_val, val_predictions)\n",
    "recall = recall_score(y_val, val_predictions)\n",
    "f1 = f1_score(y_val, val_predictions)\n",
    "\n",
    "print(\"Validation Set Metrics:\")\n",
    "print(\"Accuracy: {:.2f}\".format(accuracy))\n",
    "print(\"Precision: {:.2f}\".format(precision))\n",
    "print(\"Recall: {:.2f}\".format(recall))\n",
    "print(\"F1 Score: {:.2f}\".format(f1))"
   ]
  },
  {
   "cell_type": "code",
   "execution_count": 6,
   "id": "9c39b9b6",
   "metadata": {},
   "outputs": [
    {
     "name": "stdout",
     "output_type": "stream",
     "text": [
      "[[52  7]\n",
      " [ 0 26]]\n",
      "Class 0 predicted and true : \n",
      "52\n",
      "Class 0 predicted and false : \n",
      "7\n",
      "Class 1 predicted and false : \n",
      "0\n",
      "Class 1 predicted and true : \n",
      "26\n"
     ]
    }
   ],
   "source": [
    "from sklearn.metrics import confusion_matrix\n",
    "confusion = confusion_matrix(y_val,val_predictions)\n",
    "print(confusion)\n",
    "print(\"Class 0 predicted and true : \")\n",
    "print(confusion[0][0])\n",
    "print(\"Class 0 predicted and false : \")\n",
    "print(confusion[0][1])\n",
    "print(\"Class 1 predicted and false : \")\n",
    "print(confusion[1][0])\n",
    "print(\"Class 1 predicted and true : \")\n",
    "print(confusion[1][1])"
   ]
  },
  {
   "cell_type": "code",
   "execution_count": 7,
   "id": "e5b4a49a",
   "metadata": {},
   "outputs": [
    {
     "data": {
      "text/plain": [
       "[0, 0, 1, 1, 0, 0, 1, 0, 1, 0, 0, 0, 1, 1, 0, 0, 0, 0, 1, 0]"
      ]
     },
     "execution_count": 7,
     "metadata": {},
     "output_type": "execute_result"
    }
   ],
   "source": [
    "import random\n",
    "X_valid = []\n",
    "Y_valid = []\n",
    "for i in range (0,20):\n",
    "    index = random.randint(0,500)\n",
    "    X_valid.append(X[index])\n",
    "    Y_valid.append(y[index])\n",
    "    \n",
    "Y_valid"
   ]
  },
  {
   "cell_type": "code",
   "execution_count": 8,
   "id": "718b5f35",
   "metadata": {},
   "outputs": [],
   "source": [
    "df = pd.DataFrame(X_valid)\n",
    "df.to_csv(\"Valid_Data.csv\")"
   ]
  },
  {
   "cell_type": "code",
   "execution_count": 9,
   "id": "93dfc845",
   "metadata": {},
   "outputs": [],
   "source": [
    "data = pd.read_csv(\"Valid_Data.csv\")\n",
    "X = np.float64(X_valid)"
   ]
  },
  {
   "cell_type": "code",
   "execution_count": 10,
   "id": "abed5431",
   "metadata": {},
   "outputs": [
    {
     "data": {
      "text/plain": [
       "array([False, False,  True,  True, False, False,  True,  True,  True,\n",
       "       False, False, False,  True,  True, False, False, False, False,\n",
       "        True, False])"
      ]
     },
     "execution_count": 10,
     "metadata": {},
     "output_type": "execute_result"
    }
   ],
   "source": [
    "val_predictions = model.predict(X)\n",
    "val_predictions"
   ]
  },
  {
   "cell_type": "code",
   "execution_count": 11,
   "id": "fc227852",
   "metadata": {},
   "outputs": [
    {
     "name": "stdout",
     "output_type": "stream",
     "text": [
      "Validation Set Metrics:\n",
      "Accuracy: 0.95\n",
      "Precision: 0.88\n",
      "Recall: 1.00\n",
      "F1 Score: 0.93\n"
     ]
    }
   ],
   "source": [
    "accuracy = accuracy_score(Y_valid, val_predictions)\n",
    "precision = precision_score(Y_valid, val_predictions)\n",
    "recall = recall_score(Y_valid, val_predictions)\n",
    "f1 = f1_score(Y_valid, val_predictions)\n",
    "\n",
    "print(\"Validation Set Metrics:\")\n",
    "print(\"Accuracy: {:.2f}\".format(accuracy))\n",
    "print(\"Precision: {:.2f}\".format(precision))\n",
    "print(\"Recall: {:.2f}\".format(recall))\n",
    "print(\"F1 Score: {:.2f}\".format(f1))"
   ]
  },
  {
   "cell_type": "code",
   "execution_count": 12,
   "id": "17c05110",
   "metadata": {},
   "outputs": [
    {
     "name": "stdout",
     "output_type": "stream",
     "text": [
      "[[12  1]\n",
      " [ 0  7]]\n",
      "Class 0 predicted and true : \n",
      "12\n",
      "Class 0 predicted and false : \n",
      "1\n",
      "Class 1 predicted and false : \n",
      "0\n",
      "Class 1 predicted and true : \n",
      "7\n"
     ]
    }
   ],
   "source": [
    "from sklearn.metrics import confusion_matrix\n",
    "confusion = confusion_matrix(Y_valid,val_predictions)\n",
    "print(confusion)\n",
    "print(\"Class 0 predicted and true : \")\n",
    "print(confusion[0][0])\n",
    "print(\"Class 0 predicted and false : \")\n",
    "print(confusion[0][1])\n",
    "print(\"Class 1 predicted and false : \")\n",
    "print(confusion[1][0])\n",
    "print(\"Class 1 predicted and true : \")\n",
    "print(confusion[1][1])"
   ]
  },
  {
   "cell_type": "code",
   "execution_count": 13,
   "id": "93a6845b",
   "metadata": {},
   "outputs": [
    {
     "name": "stderr",
     "output_type": "stream",
     "text": [
      "C:\\Users\\hp\\AppData\\Local\\Temp\\ipykernel_15780\\1935187655.py:16: RuntimeWarning: overflow encountered in exp\n",
      "  return 1 / (1 + np.exp(-z))\n",
      "C:\\Users\\hp\\AppData\\Local\\Temp\\ipykernel_15780\\1935187655.py:16: RuntimeWarning: overflow encountered in exp\n",
      "  return 1 / (1 + np.exp(-z))\n",
      "C:\\Users\\hp\\AppData\\Local\\Temp\\ipykernel_15780\\1935187655.py:16: RuntimeWarning: overflow encountered in exp\n",
      "  return 1 / (1 + np.exp(-z))\n",
      "C:\\Users\\hp\\AppData\\Local\\Temp\\ipykernel_15780\\1935187655.py:16: RuntimeWarning: overflow encountered in exp\n",
      "  return 1 / (1 + np.exp(-z))\n",
      "C:\\Users\\hp\\AppData\\Local\\Temp\\ipykernel_15780\\1935187655.py:16: RuntimeWarning: overflow encountered in exp\n",
      "  return 1 / (1 + np.exp(-z))\n",
      "C:\\Users\\hp\\AppData\\Local\\Temp\\ipykernel_15780\\1935187655.py:16: RuntimeWarning: overflow encountered in exp\n",
      "  return 1 / (1 + np.exp(-z))\n",
      "C:\\Users\\hp\\AppData\\Local\\Temp\\ipykernel_15780\\1935187655.py:16: RuntimeWarning: overflow encountered in exp\n",
      "  return 1 / (1 + np.exp(-z))\n",
      "C:\\Users\\hp\\AppData\\Local\\Temp\\ipykernel_15780\\1935187655.py:16: RuntimeWarning: overflow encountered in exp\n",
      "  return 1 / (1 + np.exp(-z))\n",
      "C:\\Users\\hp\\AppData\\Local\\Temp\\ipykernel_15780\\1935187655.py:16: RuntimeWarning: overflow encountered in exp\n",
      "  return 1 / (1 + np.exp(-z))\n",
      "C:\\Users\\hp\\AppData\\Local\\Temp\\ipykernel_15780\\1935187655.py:16: RuntimeWarning: overflow encountered in exp\n",
      "  return 1 / (1 + np.exp(-z))\n"
     ]
    }
   ],
   "source": [
    "import matplotlib.pyplot as plt\n",
    "acc = []\n",
    "iterations = 0\n",
    "for i in range (0,10):\n",
    "    learning_rate = random.randint(1,9)\n",
    "    learning_rate = learning_rate/1000\n",
    "    iterations = 100 + iterations\n",
    "    model = LogisticRegression(learning_rate=learning_rate,iterations=iterations)\n",
    "    model.fit(X_train, y_train)\n",
    "    val_predictions = model.predict(X)\n",
    "    accuracy = accuracy_score(Y_valid, val_predictions)\n",
    "    acc.append(accuracy)"
   ]
  },
  {
   "cell_type": "code",
   "execution_count": 14,
   "id": "2831a8ef",
   "metadata": {},
   "outputs": [
    {
     "name": "stdout",
     "output_type": "stream",
     "text": [
      "[0.65, 1.0, 1.0, 1.0, 1.0, 0.7, 1.0, 1.0, 0.95, 1.0]\n"
     ]
    }
   ],
   "source": [
    "print(acc)"
   ]
  },
  {
   "cell_type": "code",
   "execution_count": 15,
   "id": "9616de55",
   "metadata": {},
   "outputs": [
    {
     "data": {
      "text/plain": [
       "[<matplotlib.lines.Line2D at 0x204fb3228d0>]"
      ]
     },
     "execution_count": 15,
     "metadata": {},
     "output_type": "execute_result"
    },
    {
     "data": {
      "image/png": "[encoded data removed]",
      "text/plain": [
       "<Figure size 640x480 with 1 Axes>"
      ]
     },
     "metadata": {},
     "output_type": "display_data"
    }
   ],
   "source": [
    "x = [100,200,300,400,500,600,700,800,900,1000]\n",
    "plt.xlabel(\"No. of iterations\")\n",
    "plt.ylabel(\"Accuracy\")\n",
    "plt.plot(x,acc)"
   ]
  },
  {
   "cell_type": "code",
   "execution_count": null,
   "id": "2b73058f",
   "metadata": {},
   "outputs": [],
   "source": []
  }
 ],
 "metadata": {
  "kernelspec": {
   "display_name": "Python 3 (ipykernel)",
   "language": "python",
   "name": "python3"
  },
  "language_info": {
   "codemirror_mode": {
    "name": "ipython",
    "version": 3
   },
   "file_extension": ".py",
   "mimetype": "text/x-python",
   "name": "python",
   "nbconvert_exporter": "python",
   "pygments_lexer": "ipython3",
   "version": "3.11.4"
  }
 },
 "nbformat": 4,
 "nbformat_minor": 5
}

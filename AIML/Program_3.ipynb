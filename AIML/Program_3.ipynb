{
 "cells": [
  {
   "cell_type": "code",
   "execution_count": 1,
   "id": "9548a462",
   "metadata": {},
   "outputs": [],
   "source": [
    "class Node:\n",
    "    \n",
    "    def __init__(self,state,parent,g,h):\n",
    "        self.state = state\n",
    "        self.parent = parent\n",
    "        self.g = g\n",
    "        self.h = h\n",
    "        self.f = g + h\n",
    "        \n",
    "    def __lt__(self, other):\n",
    "        return self.f < other.f\n",
    "    \n",
    "    def neighbors(self):\n",
    "        neighbors = []\n",
    "        zero_index = self.state.index(0)\n",
    "        row, col = divmod(zero_index, 3)\n",
    "\n",
    "        if col > 0:\n",
    "            new_state = self.state[:]\n",
    "            new_state[zero_index], new_state[zero_index - 1] = new_state[zero_index - 1], new_state[zero_index]\n",
    "            neighbors.append(new_state)\n",
    "\n",
    "        if col < 2:\n",
    "            new_state = self.state[:]\n",
    "            new_state[zero_index], new_state[zero_index + 1] = new_state[zero_index + 1], new_state[zero_index]\n",
    "            neighbors.append(new_state)\n",
    "\n",
    "        if row > 0:\n",
    "            new_state = self.state[:]\n",
    "            new_state[zero_index], new_state[zero_index - 3] = new_state[zero_index - 3], new_state[zero_index]\n",
    "            neighbors.append(new_state)\n",
    "\n",
    "        if row < 2:\n",
    "            new_state = self.state[:]\n",
    "            new_state[zero_index], new_state[zero_index + 3] = new_state[zero_index + 3], new_state[zero_index]\n",
    "            neighbors.append(new_state)\n",
    "\n",
    "        return neighbors\n",
    "    \n",
    "    def path(self):\n",
    "        path = []\n",
    "        current_node = self\n",
    "        while current_node:\n",
    "            path.append(current_node.state)\n",
    "            current_node = current_node.parent\n",
    "        path.reverse()\n",
    "        return path"
   ]
  },
  {
   "cell_type": "code",
   "execution_count": 2,
   "id": "adc85c9f",
   "metadata": {},
   "outputs": [],
   "source": [
    "def manhattan_distance(state1, state2):\n",
    "    distance = 0\n",
    "    for i in range(len(state1)):\n",
    "        if state1[i] != state2[i]:\n",
    "            distance += 1\n",
    "    return distance"
   ]
  },
  {
   "cell_type": "code",
   "execution_count": 3,
   "id": "a30cc17c",
   "metadata": {},
   "outputs": [],
   "source": [
    "import heapq\n",
    "def a_star(start, goal):\n",
    "    open_list = []\n",
    "    closed_list = []\n",
    "\n",
    "    heapq.heappush(open_list, Node(start, None, 0, manhattan_distance(start, goal)))\n",
    "\n",
    "    while open_list:\n",
    "        current = heapq.heappop(open_list)\n",
    "\n",
    "        if current.state == goal:\n",
    "            return current.path()\n",
    "\n",
    "        closed_list.append(current)\n",
    "\n",
    "        for neighbor_state in current.neighbors():\n",
    "            neighbor = Node(neighbor_state, current, current.g + 1, manhattan_distance(neighbor_state, goal))\n",
    "            if neighbor not in closed_list:\n",
    "                heapq.heappush(open_list, neighbor)"
   ]
  },
  {
   "cell_type": "code",
   "execution_count": 4,
   "id": "42bd0d9e",
   "metadata": {},
   "outputs": [],
   "source": [
    "def print_path(path):\n",
    "    count = 0\n",
    "    for step, state in enumerate(path):\n",
    "        print(f\"\\nStep {step + 1}:\\n\")\n",
    "        for row in state:\n",
    "            print(row,end=\" \")\n",
    "            count = count + 1\n",
    "            if count%3 == 0:\n",
    "                print(\"\\n\")\n",
    "            "
   ]
  },
  {
   "cell_type": "code",
   "execution_count": 8,
   "id": "b814114c",
   "metadata": {},
   "outputs": [
    {
     "name": "stdout",
     "output_type": "stream",
     "text": [
      "Enter the start puzzle :\n",
      "Enter the goal puzzle :\n"
     ]
    },
    {
     "ename": "ValueError",
     "evalue": "0 is not in list",
     "output_type": "error",
     "traceback": [
      "\u001b[1;31m---------------------------------------------------------------------------\u001b[0m",
      "\u001b[1;31mValueError\u001b[0m                                Traceback (most recent call last)",
      "Cell \u001b[1;32mIn[8], line 14\u001b[0m\n\u001b[0;32m     11\u001b[0m     node \u001b[38;5;241m=\u001b[39m \u001b[38;5;28mint\u001b[39m(\u001b[38;5;28minput\u001b[39m())\n\u001b[0;32m     12\u001b[0m     goal\u001b[38;5;241m.\u001b[39mappend(node)\n\u001b[1;32m---> 14\u001b[0m path \u001b[38;5;241m=\u001b[39m \u001b[43ma_star\u001b[49m\u001b[43m(\u001b[49m\u001b[43mstart\u001b[49m\u001b[43m,\u001b[49m\u001b[43m \u001b[49m\u001b[43mgoal\u001b[49m\u001b[43m)\u001b[49m\n\u001b[0;32m     16\u001b[0m \u001b[38;5;28;01mif\u001b[39;00m path:\n\u001b[0;32m     17\u001b[0m     print_path(path)\n",
      "Cell \u001b[1;32mIn[3], line 16\u001b[0m, in \u001b[0;36ma_star\u001b[1;34m(start, goal)\u001b[0m\n\u001b[0;32m     12\u001b[0m     \u001b[38;5;28;01mreturn\u001b[39;00m current\u001b[38;5;241m.\u001b[39mpath()\n\u001b[0;32m     14\u001b[0m closed_list\u001b[38;5;241m.\u001b[39mappend(current)\n\u001b[1;32m---> 16\u001b[0m \u001b[38;5;28;01mfor\u001b[39;00m neighbor_state \u001b[38;5;129;01min\u001b[39;00m \u001b[43mcurrent\u001b[49m\u001b[38;5;241;43m.\u001b[39;49m\u001b[43mneighbors\u001b[49m\u001b[43m(\u001b[49m\u001b[43m)\u001b[49m:\n\u001b[0;32m     17\u001b[0m     neighbor \u001b[38;5;241m=\u001b[39m Node(neighbor_state, current, current\u001b[38;5;241m.\u001b[39mg \u001b[38;5;241m+\u001b[39m \u001b[38;5;241m1\u001b[39m, manhattan_distance(neighbor_state, goal))\n\u001b[0;32m     18\u001b[0m     \u001b[38;5;28;01mif\u001b[39;00m neighbor \u001b[38;5;129;01mnot\u001b[39;00m \u001b[38;5;129;01min\u001b[39;00m closed_list:\n",
      "Cell \u001b[1;32mIn[1], line 15\u001b[0m, in \u001b[0;36mNode.neighbors\u001b[1;34m(self)\u001b[0m\n\u001b[0;32m     13\u001b[0m \u001b[38;5;28;01mdef\u001b[39;00m \u001b[38;5;21mneighbors\u001b[39m(\u001b[38;5;28mself\u001b[39m):\n\u001b[0;32m     14\u001b[0m     neighbors \u001b[38;5;241m=\u001b[39m []\n\u001b[1;32m---> 15\u001b[0m     zero_index \u001b[38;5;241m=\u001b[39m \u001b[38;5;28;43mself\u001b[39;49m\u001b[38;5;241;43m.\u001b[39;49m\u001b[43mstate\u001b[49m\u001b[38;5;241;43m.\u001b[39;49m\u001b[43mindex\u001b[49m\u001b[43m(\u001b[49m\u001b[38;5;241;43m0\u001b[39;49m\u001b[43m)\u001b[49m\n\u001b[0;32m     16\u001b[0m     row, col \u001b[38;5;241m=\u001b[39m \u001b[38;5;28mdivmod\u001b[39m(zero_index, \u001b[38;5;241m3\u001b[39m)\n\u001b[0;32m     18\u001b[0m     \u001b[38;5;28;01mif\u001b[39;00m col \u001b[38;5;241m>\u001b[39m \u001b[38;5;241m0\u001b[39m:\n",
      "\u001b[1;31mValueError\u001b[0m: 0 is not in list"
     ]
    }
   ],
   "source": [
    "if __name__ == '__main__':\n",
    "    start = []\n",
    "    goal = []\n",
    "    print(\"Enter the start puzzle :\")\n",
    "    for i in range(0,9):\n",
    "        node = int(input())\n",
    "        start.append(node)\n",
    "        \n",
    "    print(\"Enter the goal puzzle :\")\n",
    "    for i in range(0,9):\n",
    "        node = int(input())\n",
    "        goal.append(node)\n",
    "    \n",
    "    path = a_star(start, goal)\n",
    "\n",
    "    if path:\n",
    "        print_path(path)\n",
    "    else:\n",
    "        print('No solution found.')"
   ]
  },
  {
   "cell_type": "code",
   "execution_count": null,
   "id": "0fbfbfbf",
   "metadata": {},
   "outputs": [],
   "source": []
  }
 ],
 "metadata": {
  "kernelspec": {
   "display_name": "Python 3 (ipykernel)",
   "language": "python",
   "name": "python3"
  },
  "language_info": {
   "codemirror_mode": {
    "name": "ipython",
    "version": 3
   },
   "file_extension": ".py",
   "mimetype": "text/x-python",
   "name": "python",
   "nbconvert_exporter": "python",
   "pygments_lexer": "ipython3",
   "version": "3.11.4"
  }
 },
 "nbformat": 4,
 "nbformat_minor": 5
}
